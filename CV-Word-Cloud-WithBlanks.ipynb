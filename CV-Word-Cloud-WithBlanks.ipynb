{
 "cells": [
  {
   "cell_type": "markdown",
   "metadata": {},
   "source": [
    "# Project - Turning my CV into a word cloud"
   ]
  },
  {
   "cell_type": "markdown",
   "metadata": {},
   "source": [
    "### This is a little project in which I am turning my CV into a word cloud."
   ]
  },
  {
   "cell_type": "code",
   "execution_count": 19,
   "metadata": {},
   "outputs": [],
   "source": [
    "# Importing modules\n",
    "import numpy as np               # for scientific computing\n",
    "import pandas as pd              # for data structure\n",
    "from PIL import Image            # for converting images into arrays\n",
    "import matplotlib as mpl         # for data visualization\n",
    "import matplotlib.pyplot as plt"
   ]
  },
  {
   "cell_type": "code",
   "execution_count": 20,
   "metadata": {},
   "outputs": [],
   "source": [
    "# Installing wordcloud\n",
    "# !conda install -c conda-forge wordcloud==1.4.1 --yes\n",
    "from wordcloud import WordCloud, STOPWORDS"
   ]
  },
  {
   "cell_type": "code",
   "execution_count": 21,
   "metadata": {},
   "outputs": [
    {
     "name": "stdout",
     "output_type": "stream",
     "text": [
      "CV has been loaded.\n"
     ]
    }
   ],
   "source": [
    "# Opening my CV that I previously saved into a .txt file\n",
    "cv = open('./cv.txt', 'r').read() ### PUT YOUR OWN FILE NAME :-)\n",
    "print('CV has been loaded.')"
   ]
  },
  {
   "cell_type": "code",
   "execution_count": 22,
   "metadata": {},
   "outputs": [
    {
     "name": "stdout",
     "output_type": "stream",
     "text": [
      "{'were', 'should', 'where', 'those', 'www', 'not', \"isn't\", \"what's\", 'down', 'further', 'themselves', \"couldn't\", 'all', 'he', 'after', 'from', 'also', 'is', \"she's\", \"didn't\", 'how', 'both', 'or', 'ourselves', 'above', \"how's\", \"i'd\", 'under', \"we're\", 'had', 'few', \"he'll\", 'once', 'other', \"weren't\", \"they'll\", 'that', 'on', 'into', \"they'd\", \"she'd\", 'like', \"mustn't\", 'out', \"don't\", 'with', 'myself', 'in', \"you're\", 'would', 'can', 'our', 'these', 'was', \"who's\", 'she', 'why', 'his', 'some', 'the', 'during', 'we', \"hasn't\", \"when's\", 'such', 'if', 'since', 'else', 'up', 'be', 'for', 'yourselves', 'at', 'ours', \"won't\", 'between', 'hers', 'could', 'but', 'more', \"you'd\", 'http', \"can't\", \"that's\", 'been', 'about', \"they're\", 'has', 'what', 'again', \"where's\", 'me', \"we'd\", \"there's\", \"haven't\", 'it', 'r', 'which', 'while', 'yourself', 'over', 'a', 'as', 'just', 'each', \"he'd\", 'them', 'your', 'being', 'himself', \"wouldn't\", 'him', 'no', \"it's\", 'her', 'does', 'com', 'of', 'an', \"i'm\", \"why's\", 'and', 'yours', \"wasn't\", 'to', 'only', 'am', \"they've\", 'doing', \"we've\", 'same', 'there', 'then', \"you'll\", 'my', \"you've\", 'through', 'too', \"she'll\", 'herself', 'itself', 'any', 'below', 'cannot', 'than', 'do', \"we'll\", 'by', 'before', 'when', 'own', 'because', \"here's\", 'who', 'otherwise', 'whom', 'shall', 'get', 'ought', 'are', \"hadn't\", 'their', 'its', \"let's\", 'they', \"shan't\", 'did', 'off', \"doesn't\", 'however', 'very', 'having', \"shouldn't\", \"i've\", 'this', 'have', 'k', \"i'll\", 'ever', 'against', 'until', 'here', 'most', 'i', \"he's\", 'nor', 'theirs', 'so', \"aren't\", 'you'}\n"
     ]
    }
   ],
   "source": [
    "# Defining stopwords\n",
    "stopwords = set(STOPWORDS)\n",
    "print(stopwords)"
   ]
  },
  {
   "cell_type": "markdown",
   "metadata": {},
   "source": [
    "These words being very common and not informative, they will thus be removed from the word cloud if they are found in the content of my CV."
   ]
  },
  {
   "cell_type": "code",
   "execution_count": 77,
   "metadata": {},
   "outputs": [
    {
     "data": {
      "text/plain": [
       "<wordcloud.wordcloud.WordCloud at 0x121b85cc0>"
      ]
     },
     "execution_count": 77,
     "metadata": {},
     "output_type": "execute_result"
    }
   ],
   "source": [
    "# Instantiating the word cloud object\n",
    "cv_wc = WordCloud(background_color = 'white', max_words=100, stopwords=stopwords, scale=1, width=1600, height=800)\n",
    "\n",
    "# Generating the word cloud\n",
    "cv_wc.generate(cv)"
   ]
  },
  {
   "cell_type": "code",
   "execution_count": null,
   "metadata": {},
   "outputs": [],
   "source": [
    "# Displaying the word cloud\n",
    "# Setting dimensions\n",
    "fig = plt.figure()\n",
    "fig.set_figwidth(15)\n",
    "fig.set_figheight(15)\n",
    "\n",
    "# Plotting\n",
    "plt.imshow(cv_wc, interpolation='bilinear')\n",
    "plt.axis('off')\n",
    "plt.show()"
   ]
  },
  {
   "cell_type": "markdown",
   "metadata": {},
   "source": [
    "As we can see, some remaining words are quite common and should be removed."
   ]
  },
  {
   "cell_type": "code",
   "execution_count": 106,
   "metadata": {},
   "outputs": [],
   "source": [
    "# Adding words to stopwords\n",
    "words_to_remove = ['word1','word2',...] ### PUT THE WORDS YOU WANT TO REMOVE HERE :-)\n",
    "for word in words_to_remove:\n",
    "    stopwords.add(word)"
   ]
  },
  {
   "cell_type": "code",
   "execution_count": null,
   "metadata": {},
   "outputs": [],
   "source": [
    "# Regenerating the word cloud\n",
    "cv_wc.generate(cv)\n",
    "\n",
    "# Displaying the word cloud\n",
    "# Setting dimensions\n",
    "fig = plt.figure()\n",
    "fig.set_figwidth(15)\n",
    "fig.set_figheight(15)\n",
    "# Plotting\n",
    "plt.imshow(cv_wc, interpolation='bilinear')\n",
    "plt.axis('off')"
   ]
  },
  {
   "cell_type": "code",
   "execution_count": 108,
   "metadata": {},
   "outputs": [
    {
     "data": {
      "text/plain": [
       "<wordcloud.wordcloud.WordCloud at 0x121b85cc0>"
      ]
     },
     "execution_count": 108,
     "metadata": {},
     "output_type": "execute_result"
    }
   ],
   "source": [
    "# Saving the word cloud\n",
    "cv_wc.to_file('./CV_WordCloud.png') ### PUT YOUR OWN FILE NAME :-)"
   ]
  }
 ],
 "metadata": {
  "kernelspec": {
   "display_name": "Python 3",
   "language": "python",
   "name": "python3"
  },
  "language_info": {
   "codemirror_mode": {
    "name": "ipython",
    "version": 3
   },
   "file_extension": ".py",
   "mimetype": "text/x-python",
   "name": "python",
   "nbconvert_exporter": "python",
   "pygments_lexer": "ipython3",
   "version": "3.6.0"
  }
 },
 "nbformat": 4,
 "nbformat_minor": 4
}
